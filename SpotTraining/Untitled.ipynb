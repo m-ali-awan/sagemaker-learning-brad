{
 "cells": [
  {
   "cell_type": "code",
   "execution_count": 1,
   "id": "3fad12ed",
   "metadata": {},
   "outputs": [
    {
     "name": "stdout",
     "output_type": "stream",
     "text": [
      "Downloading data from https://storage.googleapis.com/tensorflow/tf-keras-datasets/train-labels-idx1-ubyte.gz\n",
      "32768/29515 [=================================] - 0s 0us/step\n",
      "Downloading data from https://storage.googleapis.com/tensorflow/tf-keras-datasets/train-images-idx3-ubyte.gz\n",
      "26427392/26421880 [==============================] - 0s 0us/step\n",
      "Downloading data from https://storage.googleapis.com/tensorflow/tf-keras-datasets/t10k-labels-idx1-ubyte.gz\n",
      "8192/5148 [===============================================] - 0s 0us/step\n",
      "Downloading data from https://storage.googleapis.com/tensorflow/tf-keras-datasets/t10k-images-idx3-ubyte.gz\n",
      "4423680/4422102 [==============================] - 0s 0us/step\n"
     ]
    }
   ],
   "source": [
    "\n",
    "import os\n",
    "import numpy as np\n",
    "from tensorflow.keras.datasets import fashion_mnist\n",
    "\n",
    "(x_train, y_train), (x_val, y_val) = fashion_mnist.load_data()\n",
    "\n",
    "os.makedirs(\"./data\", exist_ok = True)\n",
    "np.savez('./data/training', image=x_train, label=y_train)\n",
    "np.savez('./data/validation', image=x_val, label=y_val)"
   ]
  },
  {
   "cell_type": "code",
   "execution_count": 2,
   "id": "6d40a0ac",
   "metadata": {},
   "outputs": [
    {
     "name": "stdout",
     "output_type": "stream",
     "text": [
      "2.42.1\n",
      "s3://sagemaker-us-east-1-886035371869/keras2-fashion-mnist/training/training.npz\n",
      "s3://sagemaker-us-east-1-886035371869/keras2-fashion-mnist/validation/validation.npz\n",
      "s3://sagemaker-us-east-1-886035371869/keras2-fashion-mnist/output/\n",
      "s3://sagemaker-us-east-1-886035371869/keras2-fashion-mnist/checkpoints/\n"
     ]
    }
   ],
   "source": [
    "import sagemaker\n",
    "\n",
    "print(sagemaker.__version__)\n",
    "\n",
    "sess = sagemaker.Session()\n",
    "role = sagemaker.get_execution_role()\n",
    "bucket = sess.default_bucket()\n",
    "prefix = 'keras2-fashion-mnist'\n",
    "\n",
    "training_input_path = sess.upload_data('data/training.npz', key_prefix=prefix+'/training')\n",
    "validation_input_path = sess.upload_data('data/validation.npz', key_prefix=prefix+'/validation')\n",
    "output_path = 's3://{}/{}/output/'.format(bucket, prefix)\n",
    "chk_path = 's3://{}/{}/checkpoints/'.format(bucket, prefix)\n",
    "\n",
    "print(training_input_path)\n",
    "print(validation_input_path)\n",
    "print(output_path)\n",
    "print(chk_path)"
   ]
  },
  {
   "cell_type": "code",
   "execution_count": 3,
   "id": "5dd3f3a0",
   "metadata": {},
   "outputs": [
    {
     "data": {
      "text/plain": [
       "'sagemaker-us-east-1-886035371869'"
      ]
     },
     "execution_count": 3,
     "metadata": {},
     "output_type": "execute_result"
    }
   ],
   "source": [
    "bucket"
   ]
  },
  {
   "cell_type": "code",
   "execution_count": 8,
   "id": "9c6cb61b",
   "metadata": {},
   "outputs": [
    {
     "data": {
      "text/plain": [
       "'arn:aws:iam::886035371869:role/torchserve-workshop-SageMakerAPIExecutionRole'"
      ]
     },
     "execution_count": 8,
     "metadata": {},
     "output_type": "execute_result"
    }
   ],
   "source": [
    "role"
   ]
  },
  {
   "cell_type": "code",
   "execution_count": 5,
   "id": "3c104189",
   "metadata": {},
   "outputs": [],
   "source": [
    "from sagemaker.tensorflow import TensorFlow\n",
    "\n",
    "tf_estimator = TensorFlow(entry_point='fmnist3.py',\n",
    "                          role=role,\n",
    "                          instance_count=1, \n",
    "                          instance_type='ml.p3.2xlarge',\n",
    "                          framework_version='2.1.0', \n",
    "                          py_version='py3',\n",
    "                          hyperparameters={'epochs': 2},\n",
    "                          output_path=output_path,\n",
    "                          use_spot_instances=True,\n",
    "                          max_run=3600,                    \n",
    "                          max_wait=7200)"
   ]
  },
  {
   "cell_type": "code",
   "execution_count": 6,
   "id": "44df892f",
   "metadata": {},
   "outputs": [],
   "source": [
    "objective_metric_name = 'val_acc'\n",
    "objective_type = 'Maximize'\n",
    "metric_definitions = [\n",
    "    {'Name': 'val_acc', 'Regex': 'Best val_accuracy: ([0-9\\\\.]+)'}\n",
    "]"
   ]
  },
  {
   "cell_type": "code",
   "execution_count": 7,
   "id": "038d9a53",
   "metadata": {},
   "outputs": [],
   "source": [
    "from sagemaker.tuner import ContinuousParameter, IntegerParameter\n",
    "\n",
    "hyperparameter_ranges = {\n",
    "    'learning_rate': ContinuousParameter(0.001, 0.2, scaling_type='Logarithmic'), \n",
    "    'batch-size': IntegerParameter(32,512)\n",
    "}"
   ]
  },
  {
   "cell_type": "code",
   "execution_count": 8,
   "id": "bc5f1650",
   "metadata": {},
   "outputs": [],
   "source": [
    "from sagemaker.tuner import HyperparameterTuner\n",
    "\n",
    "tuner = HyperparameterTuner(tf_estimator,\n",
    "                            objective_metric_name,\n",
    "                            hyperparameter_ranges,\n",
    "                            metric_definitions=metric_definitions,\n",
    "                            objective_type=objective_type,\n",
    "                            max_jobs=4,\n",
    "                            max_parallel_jobs=2,\n",
    "                            early_stopping_type='Auto')"
   ]
  },
  {
   "cell_type": "code",
   "execution_count": 9,
   "id": "edd06b20",
   "metadata": {},
   "outputs": [
    {
     "name": "stdout",
     "output_type": "stream",
     "text": [
      "..........................................................................................................................................................................................................!\n"
     ]
    }
   ],
   "source": [
    "tuner.fit({'training': training_input_path, 'validation': validation_input_path})\n"
   ]
  },
  {
   "cell_type": "code",
   "execution_count": 10,
   "id": "c0fb8409",
   "metadata": {},
   "outputs": [
    {
     "data": {
      "text/html": [
       "<div>\n",
       "<style scoped>\n",
       "    .dataframe tbody tr th:only-of-type {\n",
       "        vertical-align: middle;\n",
       "    }\n",
       "\n",
       "    .dataframe tbody tr th {\n",
       "        vertical-align: top;\n",
       "    }\n",
       "\n",
       "    .dataframe thead th {\n",
       "        text-align: right;\n",
       "    }\n",
       "</style>\n",
       "<table border=\"1\" class=\"dataframe\">\n",
       "  <thead>\n",
       "    <tr style=\"text-align: right;\">\n",
       "      <th></th>\n",
       "      <th>batch-size</th>\n",
       "      <th>learning_rate</th>\n",
       "      <th>TrainingJobName</th>\n",
       "      <th>TrainingJobStatus</th>\n",
       "      <th>FinalObjectiveValue</th>\n",
       "      <th>TrainingStartTime</th>\n",
       "      <th>TrainingEndTime</th>\n",
       "      <th>TrainingElapsedTimeSeconds</th>\n",
       "    </tr>\n",
       "  </thead>\n",
       "  <tbody>\n",
       "    <tr>\n",
       "      <th>1</th>\n",
       "      <td>87.0</td>\n",
       "      <td>0.120563</td>\n",
       "      <td>tensorflow-training-210615-0118-003-358756ff</td>\n",
       "      <td>Completed</td>\n",
       "      <td>0.8944</td>\n",
       "      <td>2021-06-15 01:32:15+00:00</td>\n",
       "      <td>2021-06-15 01:34:43+00:00</td>\n",
       "      <td>148.0</td>\n",
       "    </tr>\n",
       "    <tr>\n",
       "      <th>0</th>\n",
       "      <td>88.0</td>\n",
       "      <td>0.200000</td>\n",
       "      <td>tensorflow-training-210615-0118-004-4bcd244a</td>\n",
       "      <td>Completed</td>\n",
       "      <td>0.8868</td>\n",
       "      <td>2021-06-15 01:29:04+00:00</td>\n",
       "      <td>2021-06-15 01:31:32+00:00</td>\n",
       "      <td>148.0</td>\n",
       "    </tr>\n",
       "    <tr>\n",
       "      <th>2</th>\n",
       "      <td>264.0</td>\n",
       "      <td>0.194908</td>\n",
       "      <td>tensorflow-training-210615-0118-002-1d6ac9b5</td>\n",
       "      <td>Completed</td>\n",
       "      <td>0.7083</td>\n",
       "      <td>2021-06-15 01:21:40+00:00</td>\n",
       "      <td>2021-06-15 01:24:09+00:00</td>\n",
       "      <td>149.0</td>\n",
       "    </tr>\n",
       "    <tr>\n",
       "      <th>3</th>\n",
       "      <td>490.0</td>\n",
       "      <td>0.002266</td>\n",
       "      <td>tensorflow-training-210615-0118-001-a952361a</td>\n",
       "      <td>Completed</td>\n",
       "      <td>0.3181</td>\n",
       "      <td>2021-06-15 01:22:12+00:00</td>\n",
       "      <td>2021-06-15 01:24:04+00:00</td>\n",
       "      <td>112.0</td>\n",
       "    </tr>\n",
       "  </tbody>\n",
       "</table>\n",
       "</div>"
      ],
      "text/plain": [
       "   batch-size  learning_rate                               TrainingJobName  \\\n",
       "1        87.0       0.120563  tensorflow-training-210615-0118-003-358756ff   \n",
       "0        88.0       0.200000  tensorflow-training-210615-0118-004-4bcd244a   \n",
       "2       264.0       0.194908  tensorflow-training-210615-0118-002-1d6ac9b5   \n",
       "3       490.0       0.002266  tensorflow-training-210615-0118-001-a952361a   \n",
       "\n",
       "  TrainingJobStatus  FinalObjectiveValue         TrainingStartTime  \\\n",
       "1         Completed               0.8944 2021-06-15 01:32:15+00:00   \n",
       "0         Completed               0.8868 2021-06-15 01:29:04+00:00   \n",
       "2         Completed               0.7083 2021-06-15 01:21:40+00:00   \n",
       "3         Completed               0.3181 2021-06-15 01:22:12+00:00   \n",
       "\n",
       "            TrainingEndTime  TrainingElapsedTimeSeconds  \n",
       "1 2021-06-15 01:34:43+00:00                       148.0  \n",
       "0 2021-06-15 01:31:32+00:00                       148.0  \n",
       "2 2021-06-15 01:24:09+00:00                       149.0  \n",
       "3 2021-06-15 01:24:04+00:00                       112.0  "
      ]
     },
     "execution_count": 10,
     "metadata": {},
     "output_type": "execute_result"
    }
   ],
   "source": [
    "from sagemaker.analytics import HyperparameterTuningJobAnalytics\n",
    "\n",
    "exp = HyperparameterTuningJobAnalytics(\n",
    "  hyperparameter_tuning_job_name=tuner.latest_tuning_job.name)\n",
    "\n",
    "jobs = exp.dataframe()\n",
    "\n",
    "jobs.sort_values('FinalObjectiveValue', ascending=0)"
   ]
  },
  {
   "cell_type": "code",
   "execution_count": 11,
   "id": "8bf48210",
   "metadata": {},
   "outputs": [
    {
     "name": "stdout",
     "output_type": "stream",
     "text": [
      "\n",
      "2021-06-13 15:16:22 Starting - Preparing the instances for training\n",
      "2021-06-13 15:16:22 Downloading - Downloading input data\n",
      "2021-06-13 15:16:22 Training - Training image download completed. Training in progress.\n",
      "2021-06-13 15:16:22 Uploading - Uploading generated training model\n",
      "2021-06-13 15:16:22 Completed - Training job completed"
     ]
    },
    {
     "name": "stderr",
     "output_type": "stream",
     "text": [
      "update_endpoint is a no-op in sagemaker>=2.\n",
      "See: https://sagemaker.readthedocs.io/en/stable/v2.html for details.\n"
     ]
    },
    {
     "name": "stdout",
     "output_type": "stream",
     "text": [
      "\n",
      "-------------!"
     ]
    }
   ],
   "source": [
    "\n",
    "import time\n",
    "\n",
    "tf_endpoint_name = 'keras-tf-fmnist-'+time.strftime(\"%Y-%m-%d-%H-%M-%S\", time.gmtime())\n",
    "\n",
    "tf_predictor = tuner.deploy(\n",
    "                 initial_instance_count=1, \n",
    "                 instance_type='ml.m5.large',\n",
    "                 endpoint_name=tf_endpoint_name)"
   ]
  },
  {
   "cell_type": "code",
   "execution_count": null,
   "id": "ed8fab93",
   "metadata": {},
   "outputs": [],
   "source": []
  }
 ],
 "metadata": {
  "kernelspec": {
   "display_name": "conda_amazonei_tensorflow_p36",
   "language": "python",
   "name": "conda_amazonei_tensorflow_p36"
  },
  "language_info": {
   "codemirror_mode": {
    "name": "ipython",
    "version": 3
   },
   "file_extension": ".py",
   "mimetype": "text/x-python",
   "name": "python",
   "nbconvert_exporter": "python",
   "pygments_lexer": "ipython3",
   "version": "3.6.10"
  }
 },
 "nbformat": 4,
 "nbformat_minor": 5
}
