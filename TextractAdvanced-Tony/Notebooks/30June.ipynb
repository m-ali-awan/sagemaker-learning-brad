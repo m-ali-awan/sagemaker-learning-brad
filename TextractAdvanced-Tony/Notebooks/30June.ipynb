{
 "cells": [
  {
   "cell_type": "code",
   "execution_count": null,
   "id": "1921372f",
   "metadata": {},
   "outputs": [],
   "source": [
    "import json\n",
    "import time\n",
    "import boto3\n",
    "\n",
    "textract_client = boto3.client('textract')"
   ]
  },
  {
   "cell_type": "code",
   "execution_count": null,
   "id": "d55e4365",
   "metadata": {},
   "outputs": [],
   "source": [
    "!pip3 install -q textract-trp "
   ]
  },
  {
   "cell_type": "code",
   "execution_count": null,
   "id": "f8b7782b",
   "metadata": {},
   "outputs": [],
   "source": [
    "import trp\n",
    "import os\n",
    "import pandas as pd"
   ]
  },
  {
   "cell_type": "code",
   "execution_count": null,
   "id": "256075e0",
   "metadata": {},
   "outputs": [],
   "source": [
    "os.chdir('..')\n",
    "os.listdir('.')"
   ]
  },
  {
   "cell_type": "code",
   "execution_count": null,
   "id": "039c932a",
   "metadata": {},
   "outputs": [],
   "source": [
    "document_s3_path='s3://client-brad/client-tony/doc_type_2.pdf'"
   ]
  },
  {
   "cell_type": "code",
   "execution_count": null,
   "id": "ee262775",
   "metadata": {},
   "outputs": [],
   "source": [
    "bucket='client-brad'\n",
    "document='client-tony/doc_type_2.pdf'"
   ]
  },
  {
   "cell_type": "code",
   "execution_count": null,
   "id": "ec14c4e5",
   "metadata": {},
   "outputs": [],
   "source": [
    "response = textract_client.start_document_analysis(DocumentLocation={'S3Object': {'Bucket': bucket, 'Name': document}},\n",
    "                FeatureTypes=[\"TABLES\",\"FORMS\"])"
   ]
  },
  {
   "cell_type": "code",
   "execution_count": null,
   "id": "6ef4ff94",
   "metadata": {},
   "outputs": [],
   "source": [
    "jobid=response['JobId']\n",
    "jobid"
   ]
  },
  {
   "cell_type": "code",
   "execution_count": null,
   "id": "68cffc0b",
   "metadata": {},
   "outputs": [],
   "source": [
    "response = textract_client.get_document_analysis(JobId=jobid)\n",
    "#                        MaxResults=maxResults)"
   ]
  },
  {
   "cell_type": "code",
   "execution_count": null,
   "id": "01e9f3be",
   "metadata": {},
   "outputs": [],
   "source": [
    "response['Blocks'][0].keys()"
   ]
  },
  {
   "cell_type": "code",
   "execution_count": null,
   "id": "a793f536",
   "metadata": {},
   "outputs": [],
   "source": []
  },
  {
   "cell_type": "code",
   "execution_count": null,
   "id": "9ed62c2b",
   "metadata": {},
   "outputs": [],
   "source": []
  },
  {
   "cell_type": "code",
   "execution_count": null,
   "id": "75046e50",
   "metadata": {},
   "outputs": [],
   "source": [
    "\n",
    "pages = []\n",
    "table_blocks =[]\n",
    "csv =''\n",
    "blocks=[]\n",
    "\n",
    "def getJobResults(jobId):\n",
    "    \n",
    "    global textract_client\n",
    "    global pages\n",
    "    global table_blocks\n",
    "    global blocks\n",
    "    \n",
    "\n",
    "    time.sleep(5)\n",
    "    response = textract_client.get_document_analysis(JobId=jobId)\n",
    "    pages.append(response)\n",
    "    print(\"Resultset page recieved: {}\".format(len(pages)))\n",
    "    nextToken = None                                                # quando tem mais de um lote de retorno, a amazon cria uma sub id unica do próximo lote armazenada 'NextToken' do lote atual\n",
    "    if('NextToken' in response):\n",
    "        nextToken = response['NextToken']\n",
    "    while(nextToken):\n",
    "        time.sleep(5)\n",
    "        response = textract_client.get_document_analysis(JobId=jobId, NextToken=nextToken)\n",
    "        \n",
    "        pages.append(response)                                                                  # vai guardando todos os lotes na lista pages\n",
    "        print(\"Resultset page recieved: {}\".format(len(pages)))\n",
    "        nextToken = None\n",
    "        if('NextToken' in response):\n",
    "            nextToken = response['NextToken']\n",
    "    return pages"
   ]
  },
  {
   "cell_type": "code",
   "execution_count": null,
   "id": "a133e4fd",
   "metadata": {},
   "outputs": [],
   "source": [
    "aa=getJobResults(jobid)"
   ]
  },
  {
   "cell_type": "code",
   "execution_count": null,
   "id": "573f0811",
   "metadata": {},
   "outputs": [],
   "source": [
    "aa[0]['Blocks'][10].keys()"
   ]
  },
  {
   "cell_type": "code",
   "execution_count": null,
   "id": "1902003c",
   "metadata": {},
   "outputs": [],
   "source": []
  },
  {
   "cell_type": "code",
   "execution_count": null,
   "id": "3941c3ef",
   "metadata": {},
   "outputs": [],
   "source": []
  },
  {
   "cell_type": "code",
   "execution_count": null,
   "id": "40f7298f",
   "metadata": {},
   "outputs": [],
   "source": []
  },
  {
   "cell_type": "code",
   "execution_count": null,
   "id": "cc78ba99",
   "metadata": {},
   "outputs": [],
   "source": []
  },
  {
   "cell_type": "code",
   "execution_count": null,
   "id": "19f26294",
   "metadata": {},
   "outputs": [],
   "source": []
  }
 ],
 "metadata": {
  "kernelspec": {
   "display_name": "conda_python3",
   "language": "python",
   "name": "conda_python3"
  },
  "language_info": {
   "codemirror_mode": {
    "name": "ipython",
    "version": 3
   },
   "file_extension": ".py",
   "mimetype": "text/x-python",
   "name": "python",
   "nbconvert_exporter": "python",
   "pygments_lexer": "ipython3",
   "version": "3.6.13"
  }
 },
 "nbformat": 4,
 "nbformat_minor": 5
}
