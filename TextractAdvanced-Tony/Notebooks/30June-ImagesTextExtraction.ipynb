{
 "cells": [
  {
   "cell_type": "code",
   "execution_count": null,
   "id": "82e71c16",
   "metadata": {},
   "outputs": [],
   "source": [
    "import json\n",
    "import time\n",
    "import boto3\n",
    "\n",
    "textract_client = boto3.client('textract')"
   ]
  },
  {
   "cell_type": "code",
   "execution_count": null,
   "id": "cae07b6b",
   "metadata": {},
   "outputs": [],
   "source": [
    "!pip3 install -q textract-trp "
   ]
  },
  {
   "cell_type": "code",
   "execution_count": null,
   "id": "5f2b74c9",
   "metadata": {},
   "outputs": [],
   "source": [
    "import trp\n",
    "import os\n",
    "import pandas as pd"
   ]
  },
  {
   "cell_type": "code",
   "execution_count": null,
   "id": "109430a1",
   "metadata": {},
   "outputs": [],
   "source": [
    "os.chdir('..')\n",
    "os.listdir('.')"
   ]
  },
  {
   "cell_type": "code",
   "execution_count": null,
   "id": "f7c84150",
   "metadata": {},
   "outputs": [],
   "source": [
    "\n",
    "with open('ConvertedImages/doc_type_2-1.jpg','rb') as img:\n",
    "    response=textract_client.analyze_document(Document={\n",
    "        'Bytes':img.read()\n",
    "    },FeatureTypes=['FORMS','TABLES'])\n",
    "    \n",
    "    "
   ]
  },
  {
   "cell_type": "code",
   "execution_count": null,
   "id": "b34e5492",
   "metadata": {},
   "outputs": [],
   "source": [
    "doc=trp.Document(response)"
   ]
  },
  {
   "cell_type": "code",
   "execution_count": null,
   "id": "4981b96d",
   "metadata": {},
   "outputs": [],
   "source": [
    "\n",
    "page = doc.pages[0]\n",
    "# Validate the top row - column names\n",
    "top_row = page.tables[0].rows[0]\n"
   ]
  },
  {
   "cell_type": "code",
   "execution_count": null,
   "id": "026001df",
   "metadata": {},
   "outputs": [],
   "source": [
    "for i in range(len(page.form.fields)):\n",
    "    print(page.form.fields[i].key.text,':::',page.form.fields[i].value.text)"
   ]
  },
  {
   "cell_type": "code",
   "execution_count": null,
   "id": "e78a01ba",
   "metadata": {},
   "outputs": [],
   "source": []
  },
  {
   "cell_type": "code",
   "execution_count": null,
   "id": "c7c48962",
   "metadata": {},
   "outputs": [],
   "source": []
  },
  {
   "cell_type": "code",
   "execution_count": null,
   "id": "aa903138",
   "metadata": {},
   "outputs": [],
   "source": []
  },
  {
   "cell_type": "code",
   "execution_count": null,
   "id": "9a8176ce",
   "metadata": {},
   "outputs": [],
   "source": []
  },
  {
   "cell_type": "code",
   "execution_count": null,
   "id": "42abda87",
   "metadata": {},
   "outputs": [],
   "source": []
  },
  {
   "cell_type": "code",
   "execution_count": null,
   "id": "51e9e81f",
   "metadata": {},
   "outputs": [],
   "source": []
  },
  {
   "cell_type": "code",
   "execution_count": null,
   "id": "614ab5b2",
   "metadata": {},
   "outputs": [],
   "source": []
  },
  {
   "cell_type": "code",
   "execution_count": null,
   "id": "0da9bfc1",
   "metadata": {},
   "outputs": [],
   "source": []
  },
  {
   "cell_type": "code",
   "execution_count": null,
   "id": "0b8c27d7",
   "metadata": {},
   "outputs": [],
   "source": []
  },
  {
   "cell_type": "code",
   "execution_count": null,
   "id": "1a8561f4",
   "metadata": {},
   "outputs": [],
   "source": []
  },
  {
   "cell_type": "code",
   "execution_count": null,
   "id": "b47f93c1",
   "metadata": {},
   "outputs": [],
   "source": []
  },
  {
   "cell_type": "code",
   "execution_count": null,
   "id": "496df29e",
   "metadata": {},
   "outputs": [],
   "source": []
  },
  {
   "cell_type": "code",
   "execution_count": null,
   "id": "ad52e2d8",
   "metadata": {},
   "outputs": [],
   "source": []
  }
 ],
 "metadata": {
  "kernelspec": {
   "display_name": "conda_python3",
   "language": "python",
   "name": "conda_python3"
  },
  "language_info": {
   "codemirror_mode": {
    "name": "ipython",
    "version": 3
   },
   "file_extension": ".py",
   "mimetype": "text/x-python",
   "name": "python",
   "nbconvert_exporter": "python",
   "pygments_lexer": "ipython3",
   "version": "3.6.13"
  }
 },
 "nbformat": 4,
 "nbformat_minor": 5
}
