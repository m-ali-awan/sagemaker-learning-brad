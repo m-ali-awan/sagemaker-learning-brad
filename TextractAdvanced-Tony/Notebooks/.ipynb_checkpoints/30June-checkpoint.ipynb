{
 "cells": [
  {
   "cell_type": "code",
   "execution_count": 17,
   "id": "2780b01f",
   "metadata": {},
   "outputs": [],
   "source": [
    "import json\n",
    "import time\n",
    "import boto3\n",
    "\n",
    "textract_client = boto3.client('textract')"
   ]
  },
  {
   "cell_type": "code",
   "execution_count": 18,
   "id": "91df25e1",
   "metadata": {},
   "outputs": [
    {
     "name": "stdout",
     "output_type": "stream",
     "text": [
      "\u001b[33mWARNING: You are using pip version 21.1.2; however, version 21.1.3 is available.\n",
      "You should consider upgrading via the '/home/ec2-user/anaconda3/envs/python3/bin/python -m pip install --upgrade pip' command.\u001b[0m\n"
     ]
    }
   ],
   "source": [
    "!pip3 install -q textract-trp "
   ]
  },
  {
   "cell_type": "code",
   "execution_count": 19,
   "id": "9c10e28b",
   "metadata": {},
   "outputs": [],
   "source": [
    "import trp\n",
    "import os\n",
    "import pandas as pd"
   ]
  },
  {
   "cell_type": "code",
   "execution_count": 4,
   "id": "2e34d7bb",
   "metadata": {},
   "outputs": [
    {
     "data": {
      "text/plain": [
       "['Notebooks', 'ConvertedImages', '.ipynb_checkpoints']"
      ]
     },
     "execution_count": 4,
     "metadata": {},
     "output_type": "execute_result"
    }
   ],
   "source": [
    "os.chdir('..')\n",
    "os.listdir('.')"
   ]
  },
  {
   "cell_type": "code",
   "execution_count": 20,
   "id": "4a2e809a",
   "metadata": {},
   "outputs": [],
   "source": [
    "document_s3_path='s3://client-brad/client-tony/doc_type_2.pdf'"
   ]
  },
  {
   "cell_type": "code",
   "execution_count": 21,
   "id": "47c0d5af",
   "metadata": {},
   "outputs": [],
   "source": [
    "bucket='client-brad'\n",
    "document='client-tony/doc_type_2.pdf'"
   ]
  },
  {
   "cell_type": "code",
   "execution_count": 22,
   "id": "e5e82d0d",
   "metadata": {},
   "outputs": [],
   "source": [
    "response = textract_client.start_document_analysis(DocumentLocation={'S3Object': {'Bucket': bucket, 'Name': document}},\n",
    "                FeatureTypes=[\"TABLES\",\"FORMS\"])"
   ]
  },
  {
   "cell_type": "code",
   "execution_count": 23,
   "id": "5cb9e84c",
   "metadata": {},
   "outputs": [
    {
     "data": {
      "text/plain": [
       "'61a31137a3a1bc0ef4d71efc7497f7ff676139cf7f272ca6bc33d148240cf515'"
      ]
     },
     "execution_count": 23,
     "metadata": {},
     "output_type": "execute_result"
    }
   ],
   "source": [
    "jobid=response['JobId']\n",
    "jobid"
   ]
  },
  {
   "cell_type": "code",
   "execution_count": 24,
   "id": "3cf5ce35",
   "metadata": {},
   "outputs": [],
   "source": [
    "response = textract_client.get_document_analysis(JobId=jobid)\n",
    "#                        MaxResults=maxResults)"
   ]
  },
  {
   "cell_type": "code",
   "execution_count": null,
   "id": "975ab7f8",
   "metadata": {},
   "outputs": [],
   "source": [
    "response['Blocks'][0].keys()"
   ]
  },
  {
   "cell_type": "code",
   "execution_count": null,
   "id": "5a650da6",
   "metadata": {},
   "outputs": [],
   "source": []
  },
  {
   "cell_type": "code",
   "execution_count": null,
   "id": "8ef86055",
   "metadata": {},
   "outputs": [],
   "source": []
  },
  {
   "cell_type": "code",
   "execution_count": 25,
   "id": "679f9a59",
   "metadata": {},
   "outputs": [],
   "source": [
    "\n",
    "pages = []\n",
    "table_blocks =[]\n",
    "csv =''\n",
    "blocks=[]\n",
    "\n",
    "def getJobResults(jobId):\n",
    "    \n",
    "    global textract_client\n",
    "    global pages\n",
    "    global table_blocks\n",
    "    global blocks\n",
    "    \n",
    "\n",
    "    time.sleep(2)\n",
    "    response = textract_client.get_document_analysis(JobId=jobId)\n",
    "    pages.append(response)\n",
    "    print(\"Resultset page recieved: {}\".format(len(pages)))\n",
    "    nextToken = None                                                # quando tem mais de um lote de retorno, a amazon cria uma sub id unica do próximo lote armazenada 'NextToken' do lote atual\n",
    "    if('NextToken' in response):\n",
    "        nextToken = response['NextToken']\n",
    "    while(nextToken):\n",
    "        time.sleep(5)\n",
    "        response = textract_client.get_document_analysis(JobId=jobId, NextToken=nextToken)\n",
    "        \n",
    "        pages.append(response)                                                                  # vai guardando todos os lotes na lista pages\n",
    "        print(\"Resultset page recieved: {}\".format(len(pages)))\n",
    "        nextToken = None\n",
    "        if('NextToken' in response):\n",
    "            nextToken = response['NextToken']\n",
    "    return pages"
   ]
  },
  {
   "cell_type": "code",
   "execution_count": 26,
   "id": "ed136bb6",
   "metadata": {},
   "outputs": [
    {
     "name": "stdout",
     "output_type": "stream",
     "text": [
      "Resultset page recieved: 1\n",
      "Resultset page recieved: 2\n",
      "Resultset page recieved: 3\n"
     ]
    }
   ],
   "source": [
    "aa=getJobResults(jobid)"
   ]
  },
  {
   "cell_type": "code",
   "execution_count": 27,
   "id": "bb26e594",
   "metadata": {},
   "outputs": [
    {
     "data": {
      "text/plain": [
       "dict_keys(['BlockType', 'Confidence', 'Text', 'Geometry', 'Id', 'Relationships', 'Page'])"
      ]
     },
     "execution_count": 27,
     "metadata": {},
     "output_type": "execute_result"
    }
   ],
   "source": [
    "aa[0]['Blocks'][10].keys()"
   ]
  },
  {
   "cell_type": "code",
   "execution_count": 28,
   "id": "9b91e314",
   "metadata": {},
   "outputs": [],
   "source": [
    "def get_rows_columns_map(table_result, blocks_map):\n",
    "    rows = {}\n",
    "    for relationship in table_result['Relationships']:\n",
    "        if relationship['Type'] == 'CHILD':\n",
    "            for child_id in relationship['Ids']:\n",
    "                cell = blocks_map[child_id]\n",
    "                if cell['BlockType'] == 'CELL':\n",
    "                    row_index = cell['RowIndex']\n",
    "                    col_index = cell['ColumnIndex']\n",
    "                    if row_index not in rows:\n",
    "                        # create new row\n",
    "                        rows[row_index] = {}\n",
    "                        \n",
    "                    # get the text value\n",
    "                    rows[row_index][col_index] = get_text(cell, blocks_map)  #4\n",
    "    #print(rows)\n",
    "    return rows\n",
    "\n",
    "\n",
    "def get_text(result, blocks_map):\n",
    "    text = ''\n",
    "    if 'Relationships' in result:\n",
    "        for relationship in result['Relationships']:\n",
    "            if relationship['Type'] == 'CHILD':\n",
    "                for child_id in relationship['Ids']:\n",
    "                    word = blocks_map[child_id]\n",
    "                    if word['BlockType'] == 'WORD':\n",
    "                        text += word['Text'] + ' '\n",
    "                    if word['BlockType'] == 'SELECTION_ELEMENT':\n",
    "                        if word['SelectionStatus'] =='SELECTED':\n",
    "                            text +=  'X '    \n",
    "    return text\n",
    "\n"
   ]
  },
  {
   "cell_type": "code",
   "execution_count": 29,
   "id": "6a964d13",
   "metadata": {},
   "outputs": [],
   "source": [
    "def generate_table_csv(table_result, blocks_map, table_index):\n",
    "    rows = get_rows_columns_map(table_result, blocks_map)\n",
    "    print(rows)\n",
    "    table_id = 'Table_' + str(table_index)\n",
    "    \n",
    "    # get cells.\n",
    "    csv = 'Table: {0}\\n\\n'.format(table_id)\n",
    "\n",
    "    for row_index, cols in rows.items():\n",
    "        \n",
    "        for col_index, text in cols.items():\n",
    "            csv += '{}'.format(text) + \"&&\"  ## Se quiser modificar o delimiter tem de ser aqui, antes era \",\" - agora é \"&&\"; fiz isso porque no Brasil nossa separação decimal é vírgula e conflitos apareciam qdo extrair tabelas envolvendo valores monetários...\n",
    "        csv += '\\n'\n",
    "        \n",
    "    csv += '\\n\\n\\n'\n",
    "    return csv"
   ]
  },
  {
   "cell_type": "code",
   "execution_count": 30,
   "id": "cb237d20",
   "metadata": {},
   "outputs": [
    {
     "name": "stdout",
     "output_type": "stream",
     "text": [
      "3\n",
      "{1: {1: 'YEAR TAXING ENTITIES ', 2: 'EXEMPTIONS ', 3: 'TAXABLE ', 4: 'TAX RATE ', 5: 'TAX AMT ', 6: 'TAX DUE ', 7: '*ADDN FEES ', 8: 'TOTAL DUE '}, 2: {1: '2020 01H HOWARD COUNTY ', 2: '0 ', 3: '189,934,360 ', 4: '299562 ', 5: '568,971.17 ', 6: '568,971.17 ', 7: '0.00 ', 8: '568,971.17 '}, 3: {1: '2020 03B BIG SPRING ISD ', 2: '0 ', 3: '189,934,360 ', 4: '1.116400 ', 5: '2,120,427.20 ', 6: '2,120,427.20 ', 7: '0.00 ', 8: '2,120,427.20 '}, 4: {1: '2020 049 PERMIAN BASIN UWCD ', 2: '0 ', 3: '189,934,360 ', 4: '.003445 ', 5: '6,543.24 ', 6: '6,543.24 ', 7: '0.00 ', 8: '6,543.24 '}, 5: {1: '2020 052 HOWARD COLLEGE ', 2: '0 ', 3: '189,934,366 ', 4: '216675 ', 5: '411,540.27 ', 6: '411,540.27 ', 7: '0.00 ', 8: '411,540.27 '}, 6: {1: '', 2: '', 3: '', 4: '', 5: '', 6: '$3,107,481. ', 7: '$0.00 ', 8: '$3,107,481.88 '}}\n",
      "{1: {1: 'GEOID: 00062475020502 ', 2: '', 3: '', 4: '', 5: '', 6: '', 7: 'ASSESSED ', 8: '1,500,000 '}, 2: {1: 'YEAR TAXING ENTITIES ', 2: 'EXEMPTIONS ', 3: 'TAXABLE ', 4: 'TAX RATE ', 5: 'TAX AMT ', 6: 'TAX DUE ', 7: '*ADDN FEES ', 8: 'TOTAL DUE '}, 3: {1: '2020 01H HOWARD COUNTY ', 2: '0 ', 3: '1,500,000 ', 4: '299562 ', 5: '4,493.43 ', 6: '4,493.43 ', 7: '0.00 ', 8: '4,493.43 '}, 4: {1: '2020 03B BIG SPRING ISD ', 2: '0 ', 3: '1,500,000 ', 4: '1.116400 ', 5: '16,746.00 ', 6: '16,746.00 ', 7: '0.00 ', 8: '16,746.00 '}, 5: {1: '2020 049 PERMIAN BASIN UWCD ', 2: '0 ', 3: '1,500,000 ', 4: '003445 ', 5: '51.68 ', 6: '51.68 ', 7: '0.00 ', 8: '51.68 '}, 6: {1: '2020 052 HOWARD COLLEGE ', 2: '0 ', 3: '1,500,000 ', 4: '216675 ', 5: '3,250.12 ', 6: '3,250.12 ', 7: '0.00 ', 8: '3,250.12 '}, 7: {1: '', 2: '', 3: '', 4: '', 5: '', 6: '$24,541.23 ', 7: '$0.00 ', 8: '$24,541.23 '}}\n",
      "{1: {1: 'IF PAID IN ', 2: '*ADDN FEES ', 3: 'AMOUNT DUE '}, 2: {1: 'OCT OF 2020 ', 2: '0.00 ', 3: '3,205,646.80 '}, 3: {1: 'NOV OF 2020 ', 2: '0.00 ', 3: '3,205,646.80 '}, 4: {1: 'DEC OF 2020 ', 2: '0.00 ', 3: '3,205,646.80 '}, 5: {1: 'JAN OF 2021 ', 2: '0.00 ', 3: '3,205,646.80 '}, 6: {1: 'FEB OF 2021 ', 2: '224,395.28 ', 3: '3,430,042.08 '}, 7: {1: 'MAR OF 2021 ', 2: '288,508.21 ', 3: '3,494,155.01 '}}\n",
      "{1: {1: 'GEOID: 00062475000500 YEAR TAXING ENTITIES ', 2: 'EXEMPTIONS ', 3: 'TAXABLE ', 4: 'TAX RATE ', 5: 'TAX AMT ', 6: 'TAX DUE ', 7: '*ADDN FEES ', 8: 'TOTAL DUE '}, 2: {1: '2020 01H HOWARD COUNTY ', 2: '0 ', 3: '4,500,000 ', 4: '299562 ', 5: '13,480.29 ', 6: '13,480.29 ', 7: '0.00 ', 8: '13,480.29 '}, 3: {1: '2020 03B BIG SPRING ISD ', 2: '0 ', 3: '4,500,000 ', 4: '1.116400 ', 5: '50,238.00 ', 6: '50,238.00 ', 7: '0.00 ', 8: '50,238.00 '}, 4: {1: '2020 049 PERMIAN BASIN UWCD ', 2: '0 ', 3: '4,500,000 ', 4: '003445 ', 5: '155.02 ', 6: '155.02 ', 7: '0.00 ', 8: '155.02 '}, 5: {1: '2020 052 HOWARD COLLEGE ', 2: '0 ', 3: '4,500,000 ', 4: '216675 ', 5: '9,750.38 ', 6: '9,750.38 ', 7: '0.00 ', 8: '9,750.38 '}, 6: {1: '', 2: '', 3: '', 4: '', 5: '', 6: '$73,623.69 ', 7: '$0.00 ', 8: '$73,623.69 '}}\n",
      "{1: {1: 'IF PAID IN ', 2: '*ADDN FEES ', 3: 'AMOUNT DUE '}, 2: {1: 'OCT OF 2020 ', 2: '0.00 ', 3: '3,205,646.80 '}, 3: {1: 'NOV OF 2020 ', 2: '0.00 ', 3: '3,205,646.80 '}, 4: {1: 'DEC OF 2020 ', 2: '0.00 ', 3: '3,205,646.80 '}, 5: {1: 'JAN OF 2021 ', 2: '0.00 ', 3: '3,205,646.80 '}, 6: {1: 'FEB OF 2021 ', 2: '224,395.28 ', 3: '3,430,042.08 '}, 7: {1: 'MAR OF 2021 ', 2: '288,508.21 ', 3: '3,494,155.01 '}}\n"
     ]
    }
   ],
   "source": [
    "contador=0\n",
    "csv = ''\n",
    "blocks=[]\n",
    "for item in pages:\n",
    "  blocks= blocks + pages[contador]['Blocks']                                                # esse é o ponto crucial para qdo houver mais de um lote; vc precisa somar todos os ['Blocks'] na lista blocks, do contrário qdo for reconstruir as tabelas vai ter um erro de Key (parte das informações estão podem estar em lotes diferentes)\n",
    "  contador= contador+1\n",
    "print(contador)\n",
    "\n",
    "blocks_map = {}\n",
    "table_blocks = []\n",
    "for block in blocks:\n",
    "    blocks_map[block['Id']] = block\n",
    "    if block['BlockType'] == \"TABLE\":\n",
    "      table_blocks.append(block)\n",
    "\n",
    "\n",
    "if len(table_blocks) <= 0:\n",
    "    print( \"<b> NO Table FOUND </b>\")\n",
    "\n",
    "\n",
    "for index, table in enumerate(table_blocks):\n",
    "    csv += generate_table_csv(table, blocks_map, index +1)\n",
    "    csv += '\\n\\n'\n",
    "\n"
   ]
  },
  {
   "cell_type": "code",
   "execution_count": 31,
   "id": "2ed7443a",
   "metadata": {},
   "outputs": [
    {
     "data": {
      "text/plain": [
       "'Table: Table_1\\n\\nYEAR TAXING ENTITIES &&EXEMPTIONS &&TAXABLE &&TAX RATE &&TAX AMT &&TAX DUE &&*ADDN FEES &&TOTAL DUE &&\\n2020 01H HOWARD COUNTY &&0 &&189,934,360 &&299562 &&568,971.17 &&568,971.17 &&0.00 &&568,971.17 &&\\n2020 03B BIG SPRING ISD &&0 &&189,934,360 &&1.116400 &&2,120,427.20 &&2,120,427.20 &&0.00 &&2,120,427.20 &&\\n2020 049 PERMIAN BASIN UWCD &&0 &&189,934,360 &&.003445 &&6,543.24 &&6,543.24 &&0.00 &&6,543.24 &&\\n2020 052 HOWARD COLLEGE &&0 &&189,934,366 &&216675 &&411,540.27 &&411,540.27 &&0.00 &&411,540.27 &&\\n&&&&&&&&&&$3,107,481. &&$0.00 &&$3,107,481.88 &&\\n\\n\\n\\n\\n\\nTable: Table_2\\n\\nGEOID: 00062475020502 &&&&&&&&&&&&ASSESSED &&1,500,000 &&\\nYEAR TAXING ENTITIES &&EXEMPTIONS &&TAXABLE &&TAX RATE &&TAX AMT &&TAX DUE &&*ADDN FEES &&TOTAL DUE &&\\n2020 01H HOWARD COUNTY &&0 &&1,500,000 &&299562 &&4,493.43 &&4,493.43 &&0.00 &&4,493.43 &&\\n2020 03B BIG SPRING ISD &&0 &&1,500,000 &&1.116400 &&16,746.00 &&16,746.00 &&0.00 &&16,746.00 &&\\n2020 049 PERMIAN BASIN UWCD &&0 &&1,500,000 &&003445 &&51.68 &&51.68 &&0.00 &&51.68 &&\\n2020 052 HOWARD COLLEGE &&0 &&1,500,000 &&216675 &&3,250.12 &&3,250.12 &&0.00 &&3,250.12 &&\\n&&&&&&&&&&$24,541.23 &&$0.00 &&$24,541.23 &&\\n\\n\\n\\n\\n\\nTable: Table_3\\n\\nIF PAID IN &&*ADDN FEES &&AMOUNT DUE &&\\nOCT OF 2020 &&0.00 &&3,205,646.80 &&\\nNOV OF 2020 &&0.00 &&3,205,646.80 &&\\nDEC OF 2020 &&0.00 &&3,205,646.80 &&\\nJAN OF 2021 &&0.00 &&3,205,646.80 &&\\nFEB OF 2021 &&224,395.28 &&3,430,042.08 &&\\nMAR OF 2021 &&288,508.21 &&3,494,155.01 &&\\n\\n\\n\\n\\n\\nTable: Table_4\\n\\nGEOID: 00062475000500 YEAR TAXING ENTITIES &&EXEMPTIONS &&TAXABLE &&TAX RATE &&TAX AMT &&TAX DUE &&*ADDN FEES &&TOTAL DUE &&\\n2020 01H HOWARD COUNTY &&0 &&4,500,000 &&299562 &&13,480.29 &&13,480.29 &&0.00 &&13,480.29 &&\\n2020 03B BIG SPRING ISD &&0 &&4,500,000 &&1.116400 &&50,238.00 &&50,238.00 &&0.00 &&50,238.00 &&\\n2020 049 PERMIAN BASIN UWCD &&0 &&4,500,000 &&003445 &&155.02 &&155.02 &&0.00 &&155.02 &&\\n2020 052 HOWARD COLLEGE &&0 &&4,500,000 &&216675 &&9,750.38 &&9,750.38 &&0.00 &&9,750.38 &&\\n&&&&&&&&&&$73,623.69 &&$0.00 &&$73,623.69 &&\\n\\n\\n\\n\\n\\nTable: Table_5\\n\\nIF PAID IN &&*ADDN FEES &&AMOUNT DUE &&\\nOCT OF 2020 &&0.00 &&3,205,646.80 &&\\nNOV OF 2020 &&0.00 &&3,205,646.80 &&\\nDEC OF 2020 &&0.00 &&3,205,646.80 &&\\nJAN OF 2021 &&0.00 &&3,205,646.80 &&\\nFEB OF 2021 &&224,395.28 &&3,430,042.08 &&\\nMAR OF 2021 &&288,508.21 &&3,494,155.01 &&\\n\\n\\n\\n\\n\\n'"
      ]
     },
     "execution_count": 31,
     "metadata": {},
     "output_type": "execute_result"
    }
   ],
   "source": [
    "csv"
   ]
  },
  {
   "cell_type": "markdown",
   "id": "9c883b8f",
   "metadata": {},
   "source": [
    "## Plotting bbxes on words"
   ]
  },
  {
   "cell_type": "code",
   "execution_count": 34,
   "id": "a3b237b3",
   "metadata": {},
   "outputs": [],
   "source": [
    "    \n",
    "def parsing_the_textract_DetectDocumentText_response(response):\n",
    "    \n",
    "    output_dict={}\n",
    "    data_list=response['Blocks']\n",
    "    for index,value in enumerate(data_list):\n",
    "        if value['BlockType']=='WORD':\n",
    "            text=value['Text']\n",
    "            confidence=value['Confidence']\n",
    "            width=value['Geometry']['BoundingBox']['Width']\n",
    "            height=value['Geometry']['BoundingBox']['Height']\n",
    "            top=value['Geometry']['BoundingBox']['Top']\n",
    "            left=value['Geometry']['BoundingBox']['Left']\n",
    "            output_dict[text]=[confidence,width,height,top,left]\n",
    "    return output_dict\n"
   ]
  },
  {
   "cell_type": "code",
   "execution_count": null,
   "id": "3e671340",
   "metadata": {},
   "outputs": [],
   "source": []
  }
 ],
 "metadata": {
  "kernelspec": {
   "display_name": "conda_python3",
   "language": "python",
   "name": "conda_python3"
  },
  "language_info": {
   "codemirror_mode": {
    "name": "ipython",
    "version": 3
   },
   "file_extension": ".py",
   "mimetype": "text/x-python",
   "name": "python",
   "nbconvert_exporter": "python",
   "pygments_lexer": "ipython3",
   "version": "3.6.13"
  }
 },
 "nbformat": 4,
 "nbformat_minor": 5
}
